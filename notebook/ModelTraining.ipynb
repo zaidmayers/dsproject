{
 "cells": [
  {
   "cell_type": "markdown",
   "id": "afbdf919",
   "metadata": {},
   "source": [
    "# Model Training"
   ]
  },
  {
   "cell_type": "markdown",
   "id": "a040cb74",
   "metadata": {},
   "source": [
    "### Import Libraries"
   ]
  },
  {
   "cell_type": "code",
   "execution_count": 1,
   "id": "c938ec32",
   "metadata": {},
   "outputs": [],
   "source": [
    "import os\n",
    "os.environ[\"LOKY_MAX_CPU_COUNT\"] = \"8\"\n",
    "import numpy as np\n",
    "import pandas as pd\n",
    "import matplotlib.pyplot as plt\n",
    "import seaborn as sns\n",
    "%matplotlib inline\n",
    "from sklearn.model_selection import train_test_split\n",
    "from sklearn.compose import ColumnTransformer\n",
    "from sklearn.preprocessing import OneHotEncoder, StandardScaler\n",
    "from sklearn.pipeline import Pipeline\n",
    "from sklearn.impute import SimpleImputer\n",
    "from sklearn.linear_model import LogisticRegression\n",
    "from sklearn.neighbors import KNeighborsClassifier\n",
    "from sklearn.tree import DecisionTreeClassifier\n",
    "from sklearn.ensemble import RandomForestClassifier, AdaBoostClassifier\n",
    "from xgboost import XGBClassifier\n",
    "from catboost import CatBoostClassifier\n",
    "from collections import Counter\n",
    "from sklearn.preprocessing import MinMaxScaler\n",
    "from sklearn.metrics import r2_score, mean_absolute_error, confusion_matrix, mean_squared_error, accuracy_score, precision_score, recall_score, f1_score, roc_auc_score\n",
    "\n"
   ]
  },
  {
   "cell_type": "markdown",
   "id": "1caaced7",
   "metadata": {},
   "source": [
    "### Import CSV"
   ]
  },
  {
   "cell_type": "code",
   "execution_count": 2,
   "id": "7f77542a",
   "metadata": {},
   "outputs": [],
   "source": [
    "df = pd.read_csv(r'data\\WA_Fn-UseC_-Telco-Customer-Churn.csv')"
   ]
  },
  {
   "cell_type": "markdown",
   "id": "479bc1bf",
   "metadata": {},
   "source": [
    "### Feature Extraction"
   ]
  },
  {
   "cell_type": "code",
   "execution_count": 3,
   "id": "6089417c",
   "metadata": {},
   "outputs": [
    {
     "name": "stdout",
     "output_type": "stream",
     "text": [
      "Numerical Features:  ['tenure', 'MonthlyCharges', 'TotalCharges']\n",
      "Categorical Features:  ['InternetService', 'DeviceProtection', 'TechSupport', 'PaperlessBilling', 'Contract', 'OnlineBackup', 'gender', 'StreamingMovies', 'PaymentMethod', 'SeniorCitizen', 'PhoneService', 'MultipleLines', 'Dependents', 'Partner', 'StreamingTV', 'OnlineSecurity']\n",
      "Target:  ['Churn']\n"
     ]
    }
   ],
   "source": [
    "df['Churn'] = df['Churn'].astype('string').str.strip()\n",
    "df = df[df['Churn'].isin(['Yes', 'No'])].copy()\n",
    "df['TotalCharges'] = pd.to_numeric(df['TotalCharges'], errors='coerce')\n",
    "numerical_features = [f for f in df.columns if df[f].dtype != 'object' and df[f].nunique() > 2]\n",
    "binary_features = [col for col in df.columns if df[col].nunique() == 2]\n",
    "categorical_features = list(set([f for f in df.columns if df[f].dtype == 'object'] + binary_features) - {'Churn', 'customerID'})\n",
    "target = df['Churn']\n",
    "print(\"Numerical Features: \",numerical_features)\n",
    "print(\"Categorical Features: \", categorical_features)\n",
    "print(\"Target: \", [target.name])"
   ]
  },
  {
   "cell_type": "markdown",
   "id": "b3a44e20",
   "metadata": {},
   "source": [
    "### X and Y Variables"
   ]
  },
  {
   "cell_type": "code",
   "execution_count": 4,
   "id": "7a70bdb4",
   "metadata": {},
   "outputs": [],
   "source": [
    "X = df.drop(columns=['customerID', 'Churn'])\n",
    "y = df['Churn']"
   ]
  },
  {
   "cell_type": "code",
   "execution_count": 5,
   "id": "d8cfb44e",
   "metadata": {},
   "outputs": [
    {
     "data": {
      "text/html": [
       "<div>\n",
       "<style scoped>\n",
       "    .dataframe tbody tr th:only-of-type {\n",
       "        vertical-align: middle;\n",
       "    }\n",
       "\n",
       "    .dataframe tbody tr th {\n",
       "        vertical-align: top;\n",
       "    }\n",
       "\n",
       "    .dataframe thead th {\n",
       "        text-align: right;\n",
       "    }\n",
       "</style>\n",
       "<table border=\"1\" class=\"dataframe\">\n",
       "  <thead>\n",
       "    <tr style=\"text-align: right;\">\n",
       "      <th></th>\n",
       "      <th>gender</th>\n",
       "      <th>SeniorCitizen</th>\n",
       "      <th>Partner</th>\n",
       "      <th>Dependents</th>\n",
       "      <th>tenure</th>\n",
       "      <th>PhoneService</th>\n",
       "      <th>MultipleLines</th>\n",
       "      <th>InternetService</th>\n",
       "      <th>OnlineSecurity</th>\n",
       "      <th>OnlineBackup</th>\n",
       "      <th>DeviceProtection</th>\n",
       "      <th>TechSupport</th>\n",
       "      <th>StreamingTV</th>\n",
       "      <th>StreamingMovies</th>\n",
       "      <th>Contract</th>\n",
       "      <th>PaperlessBilling</th>\n",
       "      <th>PaymentMethod</th>\n",
       "      <th>MonthlyCharges</th>\n",
       "      <th>TotalCharges</th>\n",
       "    </tr>\n",
       "  </thead>\n",
       "  <tbody>\n",
       "    <tr>\n",
       "      <th>0</th>\n",
       "      <td>Female</td>\n",
       "      <td>0</td>\n",
       "      <td>Yes</td>\n",
       "      <td>No</td>\n",
       "      <td>1</td>\n",
       "      <td>No</td>\n",
       "      <td>No phone service</td>\n",
       "      <td>DSL</td>\n",
       "      <td>No</td>\n",
       "      <td>Yes</td>\n",
       "      <td>No</td>\n",
       "      <td>No</td>\n",
       "      <td>No</td>\n",
       "      <td>No</td>\n",
       "      <td>Month-to-month</td>\n",
       "      <td>Yes</td>\n",
       "      <td>Electronic check</td>\n",
       "      <td>29.85</td>\n",
       "      <td>29.85</td>\n",
       "    </tr>\n",
       "    <tr>\n",
       "      <th>1</th>\n",
       "      <td>Male</td>\n",
       "      <td>0</td>\n",
       "      <td>No</td>\n",
       "      <td>No</td>\n",
       "      <td>34</td>\n",
       "      <td>Yes</td>\n",
       "      <td>No</td>\n",
       "      <td>DSL</td>\n",
       "      <td>Yes</td>\n",
       "      <td>No</td>\n",
       "      <td>Yes</td>\n",
       "      <td>No</td>\n",
       "      <td>No</td>\n",
       "      <td>No</td>\n",
       "      <td>One year</td>\n",
       "      <td>No</td>\n",
       "      <td>Mailed check</td>\n",
       "      <td>56.95</td>\n",
       "      <td>1889.50</td>\n",
       "    </tr>\n",
       "    <tr>\n",
       "      <th>2</th>\n",
       "      <td>Male</td>\n",
       "      <td>0</td>\n",
       "      <td>No</td>\n",
       "      <td>No</td>\n",
       "      <td>2</td>\n",
       "      <td>Yes</td>\n",
       "      <td>No</td>\n",
       "      <td>DSL</td>\n",
       "      <td>Yes</td>\n",
       "      <td>Yes</td>\n",
       "      <td>No</td>\n",
       "      <td>No</td>\n",
       "      <td>No</td>\n",
       "      <td>No</td>\n",
       "      <td>Month-to-month</td>\n",
       "      <td>Yes</td>\n",
       "      <td>Mailed check</td>\n",
       "      <td>53.85</td>\n",
       "      <td>108.15</td>\n",
       "    </tr>\n",
       "    <tr>\n",
       "      <th>3</th>\n",
       "      <td>Male</td>\n",
       "      <td>0</td>\n",
       "      <td>No</td>\n",
       "      <td>No</td>\n",
       "      <td>45</td>\n",
       "      <td>No</td>\n",
       "      <td>No phone service</td>\n",
       "      <td>DSL</td>\n",
       "      <td>Yes</td>\n",
       "      <td>No</td>\n",
       "      <td>Yes</td>\n",
       "      <td>Yes</td>\n",
       "      <td>No</td>\n",
       "      <td>No</td>\n",
       "      <td>One year</td>\n",
       "      <td>No</td>\n",
       "      <td>Bank transfer (automatic)</td>\n",
       "      <td>42.30</td>\n",
       "      <td>1840.75</td>\n",
       "    </tr>\n",
       "    <tr>\n",
       "      <th>4</th>\n",
       "      <td>Female</td>\n",
       "      <td>0</td>\n",
       "      <td>No</td>\n",
       "      <td>No</td>\n",
       "      <td>2</td>\n",
       "      <td>Yes</td>\n",
       "      <td>No</td>\n",
       "      <td>Fiber optic</td>\n",
       "      <td>No</td>\n",
       "      <td>No</td>\n",
       "      <td>No</td>\n",
       "      <td>No</td>\n",
       "      <td>No</td>\n",
       "      <td>No</td>\n",
       "      <td>Month-to-month</td>\n",
       "      <td>Yes</td>\n",
       "      <td>Electronic check</td>\n",
       "      <td>70.70</td>\n",
       "      <td>151.65</td>\n",
       "    </tr>\n",
       "  </tbody>\n",
       "</table>\n",
       "</div>"
      ],
      "text/plain": [
       "   gender  SeniorCitizen Partner Dependents  tenure PhoneService  \\\n",
       "0  Female              0     Yes         No       1           No   \n",
       "1    Male              0      No         No      34          Yes   \n",
       "2    Male              0      No         No       2          Yes   \n",
       "3    Male              0      No         No      45           No   \n",
       "4  Female              0      No         No       2          Yes   \n",
       "\n",
       "      MultipleLines InternetService OnlineSecurity OnlineBackup  \\\n",
       "0  No phone service             DSL             No          Yes   \n",
       "1                No             DSL            Yes           No   \n",
       "2                No             DSL            Yes          Yes   \n",
       "3  No phone service             DSL            Yes           No   \n",
       "4                No     Fiber optic             No           No   \n",
       "\n",
       "  DeviceProtection TechSupport StreamingTV StreamingMovies        Contract  \\\n",
       "0               No          No          No              No  Month-to-month   \n",
       "1              Yes          No          No              No        One year   \n",
       "2               No          No          No              No  Month-to-month   \n",
       "3              Yes         Yes          No              No        One year   \n",
       "4               No          No          No              No  Month-to-month   \n",
       "\n",
       "  PaperlessBilling              PaymentMethod  MonthlyCharges  TotalCharges  \n",
       "0              Yes           Electronic check           29.85         29.85  \n",
       "1               No               Mailed check           56.95       1889.50  \n",
       "2              Yes               Mailed check           53.85        108.15  \n",
       "3               No  Bank transfer (automatic)           42.30       1840.75  \n",
       "4              Yes           Electronic check           70.70        151.65  "
      ]
     },
     "execution_count": 5,
     "metadata": {},
     "output_type": "execute_result"
    }
   ],
   "source": [
    "X.head()"
   ]
  },
  {
   "cell_type": "code",
   "execution_count": 6,
   "id": "99926b56",
   "metadata": {},
   "outputs": [
    {
     "data": {
      "text/plain": [
       "0     No\n",
       "1     No\n",
       "2    Yes\n",
       "3     No\n",
       "4    Yes\n",
       "Name: Churn, dtype: string"
      ]
     },
     "execution_count": 6,
     "metadata": {},
     "output_type": "execute_result"
    }
   ],
   "source": [
    "y.head()"
   ]
  },
  {
   "cell_type": "code",
   "execution_count": null,
   "id": "4bdadece",
   "metadata": {},
   "outputs": [],
   "source": []
  },
  {
   "cell_type": "markdown",
   "id": "9b74d393",
   "metadata": {},
   "source": [
    "### Train-Test Split"
   ]
  },
  {
   "cell_type": "code",
   "execution_count": 7,
   "id": "1e79be49",
   "metadata": {},
   "outputs": [
    {
     "name": "stdout",
     "output_type": "stream",
     "text": [
      "Train shape: (4930, 19), (4930,)\n",
      "Test shape: (2113, 19), (2113,)\n"
     ]
    }
   ],
   "source": [
    "X_train, X_test, y_train, y_test = train_test_split(X, y, test_size=0.3, random_state=42, stratify=y)\n",
    "\n",
    "print(f\"Train shape: {X_train.shape}, {y_train.shape}\")\n",
    "print(f\"Test shape: {X_test.shape}, {y_test.shape}\")"
   ]
  },
  {
   "cell_type": "code",
   "execution_count": 8,
   "id": "d849df78",
   "metadata": {},
   "outputs": [
    {
     "name": "stdout",
     "output_type": "stream",
     "text": [
      "['gender', 'SeniorCitizen', 'Partner', 'Dependents', 'tenure', 'PhoneService', 'MultipleLines', 'InternetService', 'OnlineSecurity', 'OnlineBackup', 'DeviceProtection', 'TechSupport', 'StreamingTV', 'StreamingMovies', 'Contract', 'PaperlessBilling', 'PaymentMethod', 'MonthlyCharges', 'TotalCharges']\n"
     ]
    }
   ],
   "source": [
    "print(X_train.columns.tolist())\n"
   ]
  },
  {
   "cell_type": "markdown",
   "id": "d101a724",
   "metadata": {},
   "source": [
    "### Transformers\n",
    "\n",
    "Using pipelines, we can pass in the transformations in steps of imputing and scaling the numerical features and imputing and one-hot encoding the categorcal features to prepare our data for training. Defining this after the train-test split to avoid leakage. \n"
   ]
  },
  {
   "cell_type": "code",
   "execution_count": 9,
   "id": "fe8d806c",
   "metadata": {},
   "outputs": [],
   "source": [
    "numerical_imputer = SimpleImputer(strategy='median')\n",
    "scaler = StandardScaler()\n",
    "\n",
    "numerical_pipeline = Pipeline(steps = [('imputer', numerical_imputer), ('scaler', scaler)])\n",
    "\n",
    "categorical_imputer = SimpleImputer(strategy='most_frequent')\n",
    "encoder = OneHotEncoder()\n",
    "\n",
    "categorical_pipeline = Pipeline(steps = [('imputer', categorical_imputer),('encoder', encoder)])\n",
    "\n",
    "\n",
    "preprocessor = ColumnTransformer(transformers = [('num_trans', numerical_pipeline, numerical_features), ('cat_trans', categorical_pipeline, categorical_features)])    \n",
    "\n",
    "X_train_prep = preprocessor.fit_transform(X_train)\n",
    "X_test_prep = preprocessor.transform(X_test)"
   ]
  },
  {
   "cell_type": "markdown",
   "id": "503e681a",
   "metadata": {},
   "source": [
    "### Training Phase"
   ]
  },
  {
   "cell_type": "markdown",
   "id": "cfbabae4",
   "metadata": {},
   "source": [
    "Function to return some important statistics: "
   ]
  },
  {
   "cell_type": "code",
   "execution_count": 10,
   "id": "542a91de",
   "metadata": {},
   "outputs": [],
   "source": [
    "def evaluate_clf(y_true, y_pred, y_proba=None):\n",
    "    acc = accuracy_score(y_true, y_pred)\n",
    "    pre = precision_score(y_true, y_pred, zero_division=0)\n",
    "    rec = recall_score(y_true, y_pred, zero_division=0)\n",
    "    f1  = f1_score(y_true, y_pred, zero_division=0)\n",
    "    auc = roc_auc_score(y_true, y_proba) if y_proba is not None else float(\"nan\")\n",
    "    return acc, pre, rec, f1, auc"
   ]
  },
  {
   "cell_type": "markdown",
   "id": "376f824d",
   "metadata": {},
   "source": [
    "Computing weights to balance classes in xgboost and catboost models: "
   ]
  },
  {
   "cell_type": "code",
   "execution_count": 11,
   "id": "dd429fd7",
   "metadata": {},
   "outputs": [],
   "source": [
    "ytr_enc = y_train.map({\"No\": 0, \"Yes\": 1})\n",
    "mask = ytr_enc.notna()\n",
    "\n",
    "n = (ytr_enc == 0).sum()\n",
    "p = (ytr_enc == 1).sum()\n",
    "\n",
    "xgb_scale = n/p\n",
    "\n",
    "total = n + p\n",
    "\n",
    "w0 = total/(2*n)\n",
    "w1 = total/(2*p)\n"
   ]
  },
  {
   "cell_type": "markdown",
   "id": "264982c0",
   "metadata": {},
   "source": [
    "Models chosen to run: "
   ]
  },
  {
   "cell_type": "code",
   "execution_count": 12,
   "id": "2c7bd8ff",
   "metadata": {},
   "outputs": [],
   "source": [
    "\n",
    "models = {\n",
    "    \"Logistic Regression\": LogisticRegression(max_iter=500, class_weight='balanced'),\n",
    "    \"K-Neighbors Classifier\": KNeighborsClassifier(),\n",
    "    \"Decision Tree\": DecisionTreeClassifier(class_weight='balanced'),\n",
    "    \"Random Forest\": RandomForestClassifier(class_weight='balanced', random_state=42),\n",
    "    \"XGBClassifier\": XGBClassifier(scale_pos_weight=xgb_scale),\n",
    "    \"CatBoostClassifier\": CatBoostClassifier(verbose=False, class_weights=[w0, w1]),\n",
    "    \"AdaBoost Classifier\": AdaBoostClassifier()\n",
    "}\n"
   ]
  },
  {
   "cell_type": "markdown",
   "id": "ca7cb487",
   "metadata": {},
   "source": [
    "Running the models: "
   ]
  },
  {
   "cell_type": "code",
   "execution_count": 13,
   "id": "a380697a",
   "metadata": {},
   "outputs": [
    {
     "name": "stdout",
     "output_type": "stream",
     "text": [
      "Logistic Regression\n",
      "Model performance (Train)\n",
      "- Accuracy: 0.7471  Precision: 0.5150  Recall: 0.8028  F1: 0.6274\n",
      "----------------------------------\n",
      "Model performance (Test)\n",
      "- Accuracy: 0.7440  Precision: 0.5114  Recall: 0.7968  F1: 0.6230  AUC: 0.8443\n",
      "=================================== \n",
      "\n",
      "K-Neighbors Classifier\n",
      "Model performance (Train)\n",
      "- Accuracy: 0.8383  Precision: 0.7135  Recall: 0.6529  F1: 0.6818\n",
      "----------------------------------\n",
      "Model performance (Test)\n",
      "- Accuracy: 0.7615  Precision: 0.5514  Recall: 0.5455  F1: 0.5484  AUC: 0.7864\n",
      "=================================== \n",
      "\n",
      "Decision Tree\n",
      "Model performance (Train)\n",
      "- Accuracy: 0.9978  Precision: 0.9924  Recall: 0.9992  F1: 0.9958\n",
      "----------------------------------\n",
      "Model performance (Test)\n",
      "- Accuracy: 0.7118  Precision: 0.4582  Recall: 0.4688  F1: 0.4634  AUC: 0.6343\n",
      "=================================== \n",
      "\n",
      "Random Forest\n",
      "Model performance (Train)\n",
      "- Accuracy: 0.9980  Precision: 0.9954  Recall: 0.9969  F1: 0.9962\n",
      "----------------------------------\n",
      "Model performance (Test)\n",
      "- Accuracy: 0.7832  Precision: 0.6229  Recall: 0.4652  F1: 0.5327  AUC: 0.8147\n",
      "=================================== \n",
      "\n",
      "XGBClassifier\n",
      "Model performance (Train)\n",
      "- Accuracy: 0.9351  Precision: 0.8061  Recall: 0.9946  F1: 0.8905\n",
      "----------------------------------\n",
      "Model performance (Test)\n",
      "- Accuracy: 0.7615  Precision: 0.5422  Recall: 0.6524  F1: 0.5922  AUC: 0.8181\n",
      "=================================== \n",
      "\n",
      "CatBoostClassifier\n",
      "Model performance (Train)\n",
      "- Accuracy: 0.8625  Precision: 0.6708  Recall: 0.9457  F1: 0.7849\n",
      "----------------------------------\n",
      "Model performance (Test)\n",
      "- Accuracy: 0.7567  Precision: 0.5296  Recall: 0.7487  F1: 0.6204  AUC: 0.8331\n",
      "=================================== \n",
      "\n",
      "AdaBoost Classifier\n",
      "Model performance (Train)\n",
      "- Accuracy: 0.8099  Precision: 0.6748  Recall: 0.5474  F1: 0.6045\n",
      "----------------------------------\n",
      "Model performance (Test)\n",
      "- Accuracy: 0.7970  Precision: 0.6460  Recall: 0.5205  F1: 0.5765  AUC: 0.8400\n",
      "=================================== \n",
      "\n"
     ]
    }
   ],
   "source": [
    "models_list, f1_scores_list = [], []\n",
    "\n",
    "for name, model in models.items(): \n",
    "    model.fit(X_train_prep, ytr_enc)\n",
    "    \n",
    "    y_pred_train = model.predict(X_train_prep)\n",
    "    y_pred_test = model.predict(X_test_prep)\n",
    "    y_proba_test = None\n",
    "    \n",
    "    if hasattr(model, \"predict_proba\"):\n",
    "        y_proba_test = model.predict_proba(X_test_prep)[:, 1]\n",
    "    elif hasattr(model, \"decision_function\"):\n",
    "        scores = model.decision_function(X_test_prep).reshape(-1, 1)\n",
    "        y_proba_test = MinMaxScaler().fit_transform(scores).reshape(-1)\n",
    "\n",
    "    tr_acc, tr_pre, tr_rec, tr_f1, _ = evaluate_clf(ytr_enc, y_pred_train)\n",
    "    te_acc, te_pre, te_rec, te_f1, te_auc = evaluate_clf(\n",
    "        y_test.map({\"No\":0,\"Yes\":1}).astype(int), y_pred_test, y_proba_test\n",
    "    )\n",
    "\n",
    "    print(name)\n",
    "    models_list.append(name)\n",
    "    print('Model performance (Train)')\n",
    "    print(f\"- Accuracy: {tr_acc:.4f}  Precision: {tr_pre:.4f}  Recall: {tr_rec:.4f}  F1: {tr_f1:.4f}\")\n",
    "    print('----------------------------------')\n",
    "    print('Model performance (Test)')\n",
    "    print(f\"- Accuracy: {te_acc:.4f}  Precision: {te_pre:.4f}  Recall: {te_rec:.4f}  F1: {te_f1:.4f}  AUC: {te_auc:.4f}\")\n",
    "    f1_scores_list.append(te_f1)\n",
    "    print('='*35, '\\n')"
   ]
  },
  {
   "cell_type": "code",
   "execution_count": 14,
   "id": "670bf706",
   "metadata": {},
   "outputs": [
    {
     "data": {
      "text/html": [
       "<div>\n",
       "<style scoped>\n",
       "    .dataframe tbody tr th:only-of-type {\n",
       "        vertical-align: middle;\n",
       "    }\n",
       "\n",
       "    .dataframe tbody tr th {\n",
       "        vertical-align: top;\n",
       "    }\n",
       "\n",
       "    .dataframe thead th {\n",
       "        text-align: right;\n",
       "    }\n",
       "</style>\n",
       "<table border=\"1\" class=\"dataframe\">\n",
       "  <thead>\n",
       "    <tr style=\"text-align: right;\">\n",
       "      <th></th>\n",
       "      <th>Model</th>\n",
       "      <th>F1-Score</th>\n",
       "    </tr>\n",
       "  </thead>\n",
       "  <tbody>\n",
       "    <tr>\n",
       "      <th>0</th>\n",
       "      <td>Logistic Regression</td>\n",
       "      <td>0.622997</td>\n",
       "    </tr>\n",
       "    <tr>\n",
       "      <th>5</th>\n",
       "      <td>CatBoostClassifier</td>\n",
       "      <td>0.620384</td>\n",
       "    </tr>\n",
       "    <tr>\n",
       "      <th>4</th>\n",
       "      <td>XGBClassifier</td>\n",
       "      <td>0.592233</td>\n",
       "    </tr>\n",
       "    <tr>\n",
       "      <th>6</th>\n",
       "      <td>AdaBoost Classifier</td>\n",
       "      <td>0.576505</td>\n",
       "    </tr>\n",
       "    <tr>\n",
       "      <th>1</th>\n",
       "      <td>K-Neighbors Classifier</td>\n",
       "      <td>0.548387</td>\n",
       "    </tr>\n",
       "    <tr>\n",
       "      <th>3</th>\n",
       "      <td>Random Forest</td>\n",
       "      <td>0.532653</td>\n",
       "    </tr>\n",
       "    <tr>\n",
       "      <th>2</th>\n",
       "      <td>Decision Tree</td>\n",
       "      <td>0.463436</td>\n",
       "    </tr>\n",
       "  </tbody>\n",
       "</table>\n",
       "</div>"
      ],
      "text/plain": [
       "                    Model  F1-Score\n",
       "0     Logistic Regression  0.622997\n",
       "5      CatBoostClassifier  0.620384\n",
       "4           XGBClassifier  0.592233\n",
       "6     AdaBoost Classifier  0.576505\n",
       "1  K-Neighbors Classifier  0.548387\n",
       "3           Random Forest  0.532653\n",
       "2           Decision Tree  0.463436"
      ]
     },
     "execution_count": 14,
     "metadata": {},
     "output_type": "execute_result"
    }
   ],
   "source": [
    "pd.DataFrame(list(zip(models_list, f1_scores_list)), columns=['Model', 'F1-Score']).sort_values(by=['F1-Score'], ascending=False)"
   ]
  },
  {
   "cell_type": "code",
   "execution_count": 15,
   "id": "088272c5",
   "metadata": {},
   "outputs": [
    {
     "data": {
      "image/png": "[encoded data removed]",
      "text/plain": [
       "<Figure size 640x480 with 2 Axes>"
      ]
     },
     "metadata": {},
     "output_type": "display_data"
    }
   ],
   "source": [
    "y_test= y_test.map({'Yes':1, 'No':0}).astype(int)\n",
    "best = LogisticRegression(max_iter=500, class_weight='balanced')\n",
    "model = best.fit(X_train_prep, ytr_enc)\n",
    "y_pred = model.predict(X_test_prep)\n",
    "sns.heatmap(confusion_matrix(y_test, y_pred),  annot=True, fmt='d', cmap='Blues')\n",
    "plt.xlabel('Predicted')\n",
    "plt.ylabel('Actual')\n",
    "plt.show()"
   ]
  },
  {
   "cell_type": "markdown",
   "id": "ee3450cf",
   "metadata": {},
   "source": [
    "- Winner: Logistic Regression (class_weight='balanced') generalizes best — Test: F1 0.623, Recall 0.797, Precision 0.511, AUC 0.844, Accuracy 0.744. \n",
    "\n",
    "- We catch ~80% of churners; about 49% of alerts are false positives. "
   ]
  }
 ],
 "metadata": {
  "kernelspec": {
   "display_name": "Python 3",
   "language": "python",
   "name": "python3"
  },
  "language_info": {
   "codemirror_mode": {
    "name": "ipython",
    "version": 3
   },
   "file_extension": ".py",
   "mimetype": "text/x-python",
   "name": "python",
   "nbconvert_exporter": "python",
   "pygments_lexer": "ipython3",
   "version": "3.8.0"
  }
 },
 "nbformat": 4,
 "nbformat_minor": 5
}
